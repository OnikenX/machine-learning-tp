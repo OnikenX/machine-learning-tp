{
 "cells": [
  {
   "cell_type": "markdown",
   "metadata": {},
   "source": [
    "# Unsuppervised Learning"
   ]
  },
  {
   "cell_type": "code",
   "execution_count": 20,
   "metadata": {},
   "outputs": [],
   "source": [
    "#importar dados já processados na meta 1\n",
    "import pandas as pd\n",
    "import numpy as np\n",
    "wines = pd.read_csv('merged.csv')\n",
    "\n",
    "#binaryze values\n",
    "wines['Quality'] = np.where(wines.Quality >= 7, 1, 0)\n",
    "\n",
    "X = wines.drop(columns='Quality')\n",
    "y = wines['Quality']\n",
    "\n",
    "\n",
    "from sklearn.ensemble import RandomForestClassifier\n",
    "from sklearn.model_selection import train_test_split\n",
    "from sklearn.linear_model import LogisticRegression\n",
    "\n",
    "# X_scaled_nparray = StandardScaler().fit_transform(X)\n",
    "# X_scaled = pd.DataFrame(X_scaled_nparray, index=X.index, columns=X.columns)\n",
    "\n",
    "#split data\n",
    "from sklearn.model_selection import train_test_split\n",
    "X_train, X_test, y_train, y_test = train_test_split(X, y)"
   ]
  },
  {
   "cell_type": "code",
   "execution_count": 21,
   "metadata": {},
   "outputs": [
    {
     "name": "stdout",
     "output_type": "stream",
     "text": [
      "train score: 0.9130325814536341\n",
      "test score: 0.8368421052631579\n"
     ]
    }
   ],
   "source": [
    "# without clustering\n",
    "log_reg = RandomForestClassifier(n_estimators=30, max_depth=9)\n",
    "log_reg.fit(X_train, y_train)\n",
    "\n",
    "print(\"train score:\" ,log_reg.score(X_train, y_train))\n",
    "print(\"test score:\" ,log_reg.score(X_test, y_test))"
   ]
  },
  {
   "cell_type": "code",
   "execution_count": 22,
   "metadata": {},
   "outputs": [
    {
     "name": "stdout",
     "output_type": "stream",
     "text": [
      "train score: 0.8145363408521303\n",
      "test score: 0.8037593984962406\n"
     ]
    }
   ],
   "source": [
    "from sklearn.pipeline import Pipeline\n",
    "from sklearn.cluster import KMeans\n",
    "pipeline = Pipeline([\n",
    "    # como existem 2 possibilidades usamos 2 clusters\n",
    "    ('kmeans', KMeans(n_clusters=2)),\n",
    "    ('log_reg', RandomForestClassifier(n_estimators=30, max_depth=9))\n",
    "])\n",
    "\n",
    "pipeline.fit(X_train, y_train)\n",
    "\n",
    "print(\"train score:\" ,pipeline.score(X_train, y_train))\n",
    "print(\"test score:\" ,pipeline.score(X_test, y_test))"
   ]
  },
  {
   "cell_type": "code",
   "execution_count": 23,
   "metadata": {},
   "outputs": [
    {
     "name": "stdout",
     "output_type": "stream",
     "text": [
      "Fitting 3 folds for each of 14 candidates, totalling 42 fits\n",
      "[CV] END ...............................kmeans__n_clusters=2; total time=   0.4s\n",
      "[CV] END ...............................kmeans__n_clusters=2; total time=   0.2s\n",
      "[CV] END ...............................kmeans__n_clusters=2; total time=   0.2s\n",
      "[CV] END ...............................kmeans__n_clusters=3; total time=   0.1s\n",
      "[CV] END ...............................kmeans__n_clusters=3; total time=   0.1s\n",
      "[CV] END ...............................kmeans__n_clusters=3; total time=   0.3s\n",
      "[CV] END ...............................kmeans__n_clusters=4; total time=   0.2s\n",
      "[CV] END ...............................kmeans__n_clusters=4; total time=   0.3s\n",
      "[CV] END ...............................kmeans__n_clusters=4; total time=   0.2s\n",
      "[CV] END ...............................kmeans__n_clusters=5; total time=   0.2s\n",
      "[CV] END ...............................kmeans__n_clusters=5; total time=   0.2s\n",
      "[CV] END ...............................kmeans__n_clusters=5; total time=   0.2s\n",
      "[CV] END ...............................kmeans__n_clusters=6; total time=   0.3s\n",
      "[CV] END ...............................kmeans__n_clusters=6; total time=   0.5s\n",
      "[CV] END ...............................kmeans__n_clusters=6; total time=   0.3s\n",
      "[CV] END ...............................kmeans__n_clusters=7; total time=   0.7s\n",
      "[CV] END ...............................kmeans__n_clusters=7; total time=   0.2s\n",
      "[CV] END ...............................kmeans__n_clusters=7; total time=   0.3s\n",
      "[CV] END ...............................kmeans__n_clusters=8; total time=   0.2s\n",
      "[CV] END ...............................kmeans__n_clusters=8; total time=   0.3s\n",
      "[CV] END ...............................kmeans__n_clusters=8; total time=   0.6s\n",
      "[CV] END ...............................kmeans__n_clusters=9; total time=   0.2s\n",
      "[CV] END ...............................kmeans__n_clusters=9; total time=   0.3s\n",
      "[CV] END ...............................kmeans__n_clusters=9; total time=   0.3s\n",
      "[CV] END ..............................kmeans__n_clusters=10; total time=   0.3s\n",
      "[CV] END ..............................kmeans__n_clusters=10; total time=   0.2s\n",
      "[CV] END ..............................kmeans__n_clusters=10; total time=   0.3s\n",
      "[CV] END ..............................kmeans__n_clusters=11; total time=   0.3s\n",
      "[CV] END ..............................kmeans__n_clusters=11; total time=   0.3s\n",
      "[CV] END ..............................kmeans__n_clusters=11; total time=   2.2s\n",
      "[CV] END ..............................kmeans__n_clusters=12; total time=   2.1s\n",
      "[CV] END ..............................kmeans__n_clusters=12; total time=   0.3s\n",
      "[CV] END ..............................kmeans__n_clusters=12; total time=   0.3s\n",
      "[CV] END ..............................kmeans__n_clusters=13; total time=   0.4s\n",
      "[CV] END ..............................kmeans__n_clusters=13; total time=   0.3s\n",
      "[CV] END ..............................kmeans__n_clusters=13; total time=   0.3s\n",
      "[CV] END ..............................kmeans__n_clusters=14; total time=   0.3s\n",
      "[CV] END ..............................kmeans__n_clusters=14; total time=   0.3s\n",
      "[CV] END ..............................kmeans__n_clusters=14; total time=   0.2s\n",
      "[CV] END ..............................kmeans__n_clusters=15; total time=   0.3s\n",
      "[CV] END ..............................kmeans__n_clusters=15; total time=   0.2s\n",
      "[CV] END ..............................kmeans__n_clusters=15; total time=   0.2s\n"
     ]
    },
    {
     "data": {
      "text/plain": [
       "GridSearchCV(cv=3,\n",
       "             estimator=Pipeline(steps=[('kmeans', KMeans(n_clusters=2)),\n",
       "                                       ('log_reg',\n",
       "                                        RandomForestClassifier(max_depth=9,\n",
       "                                                               n_estimators=30))]),\n",
       "             param_grid={'kmeans__n_clusters': range(2, 16)}, verbose=2)"
      ]
     },
     "execution_count": 23,
     "metadata": {},
     "output_type": "execute_result"
    }
   ],
   "source": [
    "# agora considesando o possivel melhor numero de clusters\n",
    "from sklearn.model_selection import GridSearchCV\n",
    "param_grid = dict(kmeans__n_clusters=range(2, 16))\n",
    "grid_clf = GridSearchCV(pipeline, param_grid, cv=3, verbose=2)\n",
    "grid_clf.fit(X_train, y_train)"
   ]
  },
  {
   "cell_type": "code",
   "execution_count": 24,
   "metadata": {},
   "outputs": [
    {
     "data": {
      "text/plain": [
       "{'kmeans__n_clusters': 7}"
      ]
     },
     "execution_count": 24,
     "metadata": {},
     "output_type": "execute_result"
    }
   ],
   "source": [
    "grid_clf.best_params_"
   ]
  },
  {
   "cell_type": "code",
   "execution_count": 25,
   "metadata": {},
   "outputs": [
    {
     "data": {
      "text/plain": [
       "0.8075187969924812"
      ]
     },
     "execution_count": 25,
     "metadata": {},
     "output_type": "execute_result"
    }
   ],
   "source": [
    "grid_clf.best_score_"
   ]
  }
 ],
 "metadata": {
  "interpreter": {
   "hash": "e7370f93d1d0cde622a1f8e1c04877d8463912d04d973331ad4851f04de6915a"
  },
  "kernelspec": {
   "display_name": "Python 3.10.1 64-bit",
   "language": "python",
   "name": "python3"
  },
  "language_info": {
   "codemirror_mode": {
    "name": "ipython",
    "version": 3
   },
   "file_extension": ".py",
   "mimetype": "text/x-python",
   "name": "python",
   "nbconvert_exporter": "python",
   "pygments_lexer": "ipython3",
   "version": "3.10.1"
  },
  "orig_nbformat": 4
 },
 "nbformat": 4,
 "nbformat_minor": 2
}
